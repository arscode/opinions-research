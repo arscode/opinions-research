{
 "cells": [
  {
   "cell_type": "markdown",
   "metadata": {},
   "source": [
    "# Research Goals\n",
    "\n",
    "\n",
    "## General Model\n",
    "\n",
    "x(t) = A(x, s, t)x(t-1) + Bs\n",
    "\n",
    "## Random\n",
    "- Test various eigenvalues of A\n",
    "- Expected Distance from Equilibrium for M rounds\n",
    "\n",
    "## HK with Graph\n",
    "- Compare with normal HK for various degrees\n",
    "\n",
    "## HK with Graph (Local)\n",
    "- Convergence Time\n",
    "- Compare with normal HK and HK with Graph\n",
    "\n",
    "## K-NN\n",
    "- Convergence Time\n",
    "- Clusters\n",
    "\n",
    "## Generalized Asymmetric\n",
    "- Convergence\n",
    "- Unique Equilibrium\n",
    "- Converge Time\n",
    "- Sequential\n",
    "\n",
    "## Other\n",
    "- Compare Kleinberg Parallel - Sequential convergence (time <= N*parallel)\n",
    "\n"
   ]
  },
  {
   "cell_type": "markdown",
   "metadata": {
    "collapsed": false
   },
   "source": [
    "# Random Model (Matrix Version)\n",
    "\n",
    "#### Model Variables:\n",
    "- A: $N \\times N$ weights matrix (row stochastic)\n",
    "- B: $diag(A)$\n",
    "- Equilibrium = $(I-(A-B))^{-1}B$\n",
    "\n",
    "#### Procedure:\n",
    "- Initiallize $R(1)$ ??\n",
    "- $R(t) = Q(t)R(t-1) + Z(t), t > 1$\n",
    "- $Q(t)$ has a diagonal $\\frac{t-1}{t}$. For each row we make a weighted random choice r in [1, N] and we set Q[row, r] = 1/t. If r = row then Z[r, r] = 1/t instead."
   ]
  }
 ],
 "metadata": {
  "kernelspec": {
   "display_name": "Python 2",
   "language": "python",
   "name": "python2"
  },
  "language_info": {
   "codemirror_mode": {
    "name": "ipython",
    "version": 2
   },
   "file_extension": ".py",
   "mimetype": "text/x-python",
   "name": "python",
   "nbconvert_exporter": "python",
   "pygments_lexer": "ipython2",
   "version": "2.7.9"
  }
 },
 "nbformat": 4,
 "nbformat_minor": 0
}
