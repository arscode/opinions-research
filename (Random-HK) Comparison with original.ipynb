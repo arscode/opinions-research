{
 "cells": [
  {
   "cell_type": "markdown",
   "metadata": {
    "collapsed": true
   },
   "source": [
    "# HK Models Comparison\n",
    "\n",
    "- Original HK\n",
    "- Random-HK **with K = num_clusters * log(N)**\n",
    "- Network-HK"
   ]
  },
  {
   "cell_type": "code",
   "execution_count": 1,
   "metadata": {
    "collapsed": false
   },
   "outputs": [
    {
     "name": "stderr",
     "output_type": "stream",
     "text": [
      "/home/user/opinions-research/env/local/lib/python2.7/site-packages/matplotlib/__init__.py:872: UserWarning: axes.color_cycle is deprecated and replaced with axes.prop_cycle; please use the latter.\n",
      "  warnings.warn(self.msg_depr % (key, alt_key))\n"
     ]
    }
   ],
   "source": [
    "%matplotlib inline\n",
    "from __future__ import division, print_function\n",
    "\n",
    "import numpy as np\n",
    "from numpy import diag\n",
    "import numpy.random as rand\n",
    "import random as stdrand\n",
    "from numpy.linalg import norm, inv, eigvals\n",
    "\n",
    "import sys\n",
    "from IPython import display\n",
    "from tqdm import tqdm\n",
    "from ipyparallel import Client\n",
    "\n",
    "import seaborn as sns\n",
    "import matplotlib.pyplot as plt\n",
    "from itertools import chain, repeat\n",
    "import pandas as pd\n",
    "\n",
    "import models\n",
    "from util import *\n",
    "from viz import *\n",
    "\n",
    "#plt.rcParams['figure.figsize'] = (12.0, 9.0)\n",
    "sns.set_context('paper', font_scale=1.2)"
   ]
  },
  {
   "cell_type": "code",
   "execution_count": 2,
   "metadata": {
    "collapsed": true
   },
   "outputs": [],
   "source": [
    "def list_stats(my_list):\n",
    "    return '{0} values (min: {1}, max: {2})'.format(len(my_list), min(my_list), max(my_list))"
   ]
  },
  {
   "cell_type": "code",
   "execution_count": 3,
   "metadata": {
    "collapsed": false
   },
   "outputs": [
    {
     "name": "stdout",
     "output_type": "stream",
     "text": [
      "[+] N: 625\n",
      "[+] eps: 21 values (min: 0.01, max: 0.45)\n",
      "[+] s: 100 random values\n"
     ]
    }
   ],
   "source": [
    "rand.seed(4796124)\n",
    "stdrand.seed(198424)\n",
    "N = 625\n",
    "max_rounds = 10e3\n",
    "\n",
    "# Generate values for ε > 0.01 so that we can accurately measure cluster number\n",
    "EPS_POINTS = 21\n",
    "eps_list = np.linspace(0.01, 0.45, EPS_POINTS)\n",
    "\n",
    "# Generate random opinion vectors\n",
    "#s = rand.rand(N)\n",
    "SIM_NUM = 100\n",
    "s_list = [rand.rand(N) for _ in xrange(SIM_NUM)]\n",
    "\n",
    "print('[+] N: {0}'.format(N))\n",
    "print('[+] eps: {0}'.format(list_stats(eps_list)))\n",
    "print('[+] s: {0} random values'.format(SIM_NUM))"
   ]
  },
  {
   "cell_type": "code",
   "execution_count": 1,
   "metadata": {
    "collapsed": false
   },
   "outputs": [],
   "source": [
    "# The function that will be mapped to all values of s\n",
    "def run_models(s):\n",
    "    import models\n",
    "    from util import cluster_count, cluster_count_net\n",
    "    from numpy.linalg import norm\n",
    "    import numpy as np\n",
    "    \n",
    "    N = len(s)\n",
    "    result = tuple()\n",
    "    # Original HK\n",
    "    op_hk = models.hk(s, op_eps, max_rounds)\n",
    "    time_hk = op_hk.shape[0]\n",
    "    clusters_hk = cluster_count(op_hk[-1, :], op_eps)\n",
    "    # HK Random Sampling\n",
    "    k_rand = int(min(clusters_hk * np.log10(N), N * 0.1))\n",
    "    op_rand = models.hk_rand(s, k_rand, op_eps, max_rounds)\n",
    "    time_rand = op_rand.shape[0]\n",
    "    clusters_rand = cluster_count(op_rand[-1, :], op_eps)\n",
    "\n",
    "    cdiff_1 = abs(clusters_hk-clusters_rand)\n",
    "    # Calculate differences in opinion values (2-norm)\n",
    "    ndiff_1 = norm(op_hk[-1] - op_rand[-1])\n",
    "    # Create result tuple\n",
    "    result += (time_hk, clusters_hk)\n",
    "    result += (time_rand, clusters_rand, cdiff_1, ndiff_1, k_rand)\n",
    "    return result\n",
    "\n",
    "def calculate_averages(tuple_list):\n",
    "    tuple_elems = len(tuple_list[0])\n",
    "    averages = np.zeros(tuple_elems)\n",
    "    num_elem = len(tuple_list)\n",
    "    for t in tuple_list:\n",
    "        for i in xrange(tuple_elems):\n",
    "            averages[i] += t[i] / num_elem\n",
    "    averages = np.round(averages)\n",
    "    return averages.astype(int)"
   ]
  },
  {
   "cell_type": "code",
   "execution_count": 53,
   "metadata": {
    "collapsed": false
   },
   "outputs": [
    {
     "name": "stdout",
     "output_type": "stream",
     "text": [
      "[*] 15 parallel engines available\n",
      "[*] Finished setting working directories\n"
     ]
    }
   ],
   "source": [
    "# Initialize ipyparallel\n",
    "v, dv = parallel_init('/home/user/opinions-research/', profile='ssh')"
   ]
  },
  {
   "cell_type": "code",
   "execution_count": 61,
   "metadata": {
    "collapsed": false
   },
   "outputs": [
    {
     "name": "stderr",
     "output_type": "stream",
     "text": []
    }
   ],
   "source": [
    "# Run Models\n",
    "data = np.empty((0, 7))\n",
    "# res: model_id, eps, K, time, clusters, cluster_diff, norm_diff\n",
    "dv.clear()  \n",
    "for eps in tqdm(eps_list):\n",
    "    ar = dv.push(dict(max_rounds=max_rounds, op_eps=eps))\n",
    "    ar.get()\n",
    "    result = parallel_map(v, run_models, s_list, silent=True)\n",
    "    avg_result = calculate_averages(result)\n",
    "    res_hk = np.array([0, eps, 0, avg_result[0], avg_result[1], 0, 0])\n",
    "    res_rand = np.array([1, eps, avg_result[-1]])\n",
    "    res_rand = np.hstack((res_rand, avg_result[2:6]))\n",
    "    data = np.vstack((data, res_hk, res_rand))"
   ]
  },
  {
   "cell_type": "code",
   "execution_count": null,
   "metadata": {
    "collapsed": false
   },
   "outputs": [],
   "source": [
    "# Create DataFrame\n",
    "df = pd.DataFrame(data=data, columns=['model_id', 'eps', 'K', 'rounds', 'clusters', 'cluster_diff', 'norm_diff'])\n",
    "# Convert column types\n",
    "df['K'] = df['K'].astype(int)\n",
    "df['model_id'] = df['model_id'].astype(int)\n",
    "df['model'] = 'hk'\n",
    "df.loc[df['model_id'] == 1, 'model'] = 'sampling'\n",
    "df.loc[df['model_id'] == 2, 'model'] = 'graph'"
   ]
  },
  {
   "cell_type": "code",
   "execution_count": 56,
   "metadata": {
    "collapsed": false
   },
   "outputs": [],
   "source": [
    "# Create 'eps_range' column\n",
    "NUM_CUTS = 6\n",
    "df['eps'] = df['eps'].round(decimals=3)\n",
    "eps_cut = pd.cut(df['eps'], NUM_CUTS, precision=2, right=False)\n",
    "df['eps_range'] = eps_cut\n",
    "#df['eps_range'] = df['eps_range'].astype('category', ordered='True')"
   ]
  },
  {
   "cell_type": "code",
   "execution_count": 57,
   "metadata": {
    "collapsed": true
   },
   "outputs": [],
   "source": [
    "df.to_csv('hk_comparisons2.csv')"
   ]
  },
  {
   "cell_type": "code",
   "execution_count": 6,
   "metadata": {
    "collapsed": false
   },
   "outputs": [],
   "source": [
    "# Read already saved DataFrame\n",
    "df = pd.read_csv('hk_comparisons2.csv')\n",
    "df.loc[df['model_id'] == 1, 'model'] = 'sampling'"
   ]
  },
  {
   "cell_type": "markdown",
   "metadata": {},
   "source": [
    "# Comparison of Convergence Times"
   ]
  },
  {
   "cell_type": "code",
   "execution_count": 7,
   "metadata": {
    "collapsed": false
   },
   "outputs": [
    {
     "data": {
      "image/png": "[encoded data removed]",
      "text/plain": [
       "<matplotlib.figure.Figure at 0x7f5c9c3a9fd0>"
      ]
     },
     "metadata": {},
     "output_type": "display_data"
    }
   ],
   "source": [
    "pal1 = sns.xkcd_palette(['denim blue', 'pale orange'])\n",
    "sns.pointplot(x='eps', y='rounds', data=df[df['model'] != 'local'], hue='model', size=4, palette=pal1)\n",
    "plt.ylabel('rounds')\n",
    "plt.xlabel('epsilon')\n",
    "plt.title('Comparison of Convergence Times')\n",
    "eps_list = np.round(eps_list, decimals=2)\n",
    "plt.xticks(np.arange(0, 21, 2), eps_list[0:21:2])\n",
    "fig = plt.gcf()\n",
    "fig.set_size_inches(7, 4)\n",
    "plt.show()"
   ]
  },
  {
   "cell_type": "code",
   "execution_count": 8,
   "metadata": {
    "collapsed": false
   },
   "outputs": [
    {
     "data": {
      "image/png": "[encoded data removed]",
      "text/plain": [
       "<matplotlib.figure.Figure at 0x7f5cc26ec650>"
      ]
     },
     "metadata": {},
     "output_type": "display_data"
    }
   ],
   "source": [
    "g = sns.pointplot(x='eps', y='clusters',hue='model', data=df[df['model'] != 'local'], palette=pal1)\n",
    "plt.ylim(0, 50)\n",
    "plt.xlabel('epsilon')\n",
    "plt.ylabel('#clusters')\n",
    "plt.title('Comparison of final #clusters')\n",
    "eps_list = np.round(eps_list, decimals=2)\n",
    "plt.xticks(np.arange(0, 21, 2), eps_list[0:21:2])\n",
    "fig = plt.gcf()\n",
    "fig.set_size_inches(7, 4)\n",
    "plt.show()"
   ]
  }
 ],
 "metadata": {
  "kernelspec": {
   "display_name": "Python 2",
   "language": "python",
   "name": "python2"
  },
  "language_info": {
   "codemirror_mode": {
    "name": "ipython",
    "version": 2
   },
   "file_extension": ".py",
   "mimetype": "text/x-python",
   "name": "python",
   "nbconvert_exporter": "python",
   "pygments_lexer": "ipython2",
   "version": "2.7.9"
  }
 },
 "nbformat": 4,
 "nbformat_minor": 0
}
