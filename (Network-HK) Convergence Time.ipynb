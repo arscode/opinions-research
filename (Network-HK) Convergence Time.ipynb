{
 "cells": [
  {
   "cell_type": "markdown",
   "metadata": {},
   "source": [
    "# Convergence Time Study\n",
    "\n",
    "\n",
    "## Motivation\n",
    "We would like to see how the model's convergence time behaves in different types of networks.\n",
    "\n",
    "### Experiment 1\n",
    "We run the model on G(N, p) networks with maximum density of 0.1\n",
    "\n",
    "### Experiment 2\n",
    "We run the model on Chain Graphs.\n",
    "\n",
    "### Experiment 3\n",
    "We run the model on preferential attachment networks with maximum M eual to 0.1 * N."
   ]
  },
  {
   "cell_type": "code",
   "execution_count": 3,
   "metadata": {
    "collapsed": false
   },
   "outputs": [],
   "source": [
    "%matplotlib inline\n",
    "from __future__ import division, print_function\n",
    "\n",
    "import numpy as np\n",
    "from numpy import diag\n",
    "import numpy.random as rand\n",
    "from numpy.linalg import norm, inv, eigvals\n",
    "\n",
    "import sys\n",
    "from IPython import display\n",
    "from tqdm import tqdm\n",
    "from ipyparallel import Client\n",
    "\n",
    "import seaborn as sns\n",
    "import matplotlib.pyplot as plt\n",
    "from itertools import chain, repeat\n",
    "import pandas as pd\n",
    "\n",
    "import models\n",
    "from util import *\n",
    "from viz import *\n",
    "import networkx as nx\n",
    "import time\n",
    "\n",
    "sns.set_context('paper', font_scale=1.5)\n",
    "sns.set_palette('colorblind')\n"
   ]
  },
  {
   "cell_type": "code",
   "execution_count": 2,
   "metadata": {
    "collapsed": false
   },
   "outputs": [
    {
     "name": "stdout",
     "output_type": "stream",
     "text": [
      "[*] 15 parallel engines available\n",
      "[*] Finished setting working directories\n"
     ]
    }
   ],
   "source": [
    "v, dv = parallel_init('/home/user/opinions-research/', profile='ssh')"
   ]
  },
  {
   "cell_type": "code",
   "execution_count": 4,
   "metadata": {
    "collapsed": true
   },
   "outputs": [],
   "source": [
    "def run_model(s):\n",
    "    ''' Return convergence time\n",
    "    '''\n",
    "    import models\n",
    "    t, z = models.hk_local_nomem(A, s, op_eps, max_rounds)\n",
    "    return t\n",
    "\n",
    "def list_stats(my_list):\n",
    "    return '{0} values (min: {1}, max: {2})'.format(len(my_list), min(my_list), max(my_list))"
   ]
  },
  {
   "cell_type": "markdown",
   "metadata": {},
   "source": [
    "# 1. G(N, p) Graphs"
   ]
  },
  {
   "cell_type": "code",
   "execution_count": 5,
   "metadata": {
    "collapsed": false
   },
   "outputs": [
    {
     "name": "stdout",
     "output_type": "stream",
     "text": [
      "[+] N: 13 values (min: 256, max: 1024)\n",
      "[+] eps: 10 values (min: 0.001, max: 0.4)\n",
      "[+] s: 40 random values\n",
      "[+] p: 10 values (max: 0.1)\n"
     ]
    }
   ],
   "source": [
    "rand.seed(8925)\n",
    "\n",
    "max_rounds = 10e3\n",
    "\n",
    "# Generate values for N\n",
    "N_list = xrange(256, 1025, 64)\n",
    "\n",
    "# Generate values for ε\n",
    "EPS_POINTS = 10\n",
    "eps_list = np.linspace(1e-3, 0.4, EPS_POINTS)\n",
    "\n",
    "# Number of different s values\n",
    "SIM_NUM = 40\n",
    "\n",
    "# Number of differnet p values for G(N, p)\n",
    "P_POINTS = 10\n",
    "P_MAX = 0.1\n",
    "\n",
    "print('[+] N: {0}'.format(list_stats(N_list)))\n",
    "print('[+] eps: {0}'.format(list_stats(eps_list)))\n",
    "print('[+] s: {0} random values'.format(SIM_NUM))\n",
    "print('[+] p: {0} values (max: {1})'.format(P_POINTS, P_MAX))"
   ]
  },
  {
   "cell_type": "code",
   "execution_count": null,
   "metadata": {
    "collapsed": false
   },
   "outputs": [],
   "source": [
    "# Each row of result will contain\n",
    "# N, p, eps, conv_time\n",
    "result = np.empty((0, 4))\n",
    "total_sims = len(N_list)*EPS_POINTS*P_POINTS\n",
    "t = tqdm(total=total_sims)\n",
    "dv.clear()\n",
    "for N in N_list:\n",
    "    # Create random opinions \n",
    "    s_list = [rand.rand(N) for _ in xrange(SIM_NUM)]\n",
    "    # Lowest p value to prevent the creation of chain graphs\n",
    "    P_MIN = np.log10(N)/N\n",
    "    # Create p values\n",
    "    p_list = np.linspace(P_MIN, P_MAX, P_POINTS)\n",
    "    # Create networks\n",
    "    network_list = [gnp(N, p, verbose=False) for p in p_list]\n",
    "    for idx, A in enumerate(network_list):\n",
    "        for eps in eps_list:\n",
    "            t.update()\n",
    "            ar = dv.push(dict(A=A, op_eps=eps, max_rounds=max_rounds))\n",
    "            # Block until values are pushed\n",
    "            ar.get()\n",
    "            # Map\n",
    "            res = parallel_map(v, run_model, s_list, silent=True)\n",
    "            # Calcuate and save results\n",
    "            avg_time = np.mean(res)\n",
    "            res_row = np.array([N, p_list[idx], eps, avg_time])\n",
    "            result = np.vstack((result, res_row))\n",
    "t.close()"
   ]
  },
  {
   "cell_type": "code",
   "execution_count": null,
   "metadata": {
    "collapsed": true
   },
   "outputs": [],
   "source": [
    "df_gnp = pd.DataFrame(data=result, columns=['N', 'p', 'eps', 'convergence_time'])"
   ]
  },
  {
   "cell_type": "code",
   "execution_count": null,
   "metadata": {
    "collapsed": false
   },
   "outputs": [],
   "source": [
    "eps_range = pd.cut(df_gnp['eps'], 4, right=False, precision=3)\n",
    "df_gnp['eps_range'] = eps_range\n",
    "df_gnp['N'] = df_gnp['N'].astype(int)\n",
    "df_gnp.to_csv('hk_local_convtimes_gnp2.csv')"
   ]
  },
  {
   "cell_type": "code",
   "execution_count": 6,
   "metadata": {
    "collapsed": false
   },
   "outputs": [],
   "source": [
    "df_gnp = pd.read_csv('hk_local_convtimes_gnp2.csv')"
   ]
  },
  {
   "cell_type": "markdown",
   "metadata": {},
   "source": [
    "# 2. Chain Graphs"
   ]
  },
  {
   "cell_type": "code",
   "execution_count": null,
   "metadata": {
    "collapsed": false
   },
   "outputs": [],
   "source": [
    "def create_chain(N):\n",
    "    A = np.zeros((N, N))\n",
    "    for i in xrange(N):\n",
    "        if i - 1 >= 0:\n",
    "            A[i, i-1] = 1\n",
    "        A[i, i] = 1\n",
    "        if i + 1 < N:\n",
    "            A[i, i+1] = 1\n",
    "    return A\n",
    "\n",
    "rand.seed(8925)\n",
    "\n",
    "max_rounds = 50e3\n",
    "\n",
    "# Generate values for N\n",
    "N_list = xrange(256, 1025, 64)\n",
    "\n",
    "# Generate values for ε\n",
    "EPS_POINTS = 10\n",
    "eps_list = np.linspace(1e-3, 0.4, EPS_POINTS)\n",
    "\n",
    "# Number of different s values\n",
    "SIM_NUM = 40\n",
    "\n",
    "# Number of differnet p values for G(N, p)\n",
    "P_POINTS = 10\n",
    "P_MAX = 0.1\n",
    "\n",
    "print('[+] N: {0}'.format(list_stats(N_list)))\n",
    "print('[+] eps: {0}'.format(list_stats(eps_list)))\n",
    "print('[+] s: {0} random values'.format(SIM_NUM))"
   ]
  },
  {
   "cell_type": "code",
   "execution_count": null,
   "metadata": {
    "collapsed": false
   },
   "outputs": [],
   "source": [
    "# Each row of result will contain\n",
    "# N, eps, conv_time\n",
    "result = np.empty((0, 3))\n",
    "total_sims = len(N_list)*P_POINTS\n",
    "t = tqdm(total=total_sims)\n",
    "dv.clear()\n",
    "for N in N_list:\n",
    "    # Create random opinions \n",
    "    s_list = [rand.rand(N) for _ in xrange(SIM_NUM)]\n",
    "    # Create network\n",
    "    A = create_chain(N)\n",
    "    ar = dv.push(dict(A=A, max_rounds=max_rounds))\n",
    "    # Block until values are pushed\n",
    "    ar.get()\n",
    "    for eps in eps_list:\n",
    "        t.update()\n",
    "        ar = dv.push(dict(op_eps=eps))\n",
    "        # Block until values are pushed\n",
    "        ar.get()\n",
    "        # Map\n",
    "        res = parallel_map(v, run_model, s_list, silent=True)\n",
    "        # Calcuate and save results\n",
    "        avg_time = np.mean(res)\n",
    "        res_row = np.array([N, eps, avg_time])\n",
    "        result = np.vstack((result, res_row))\n",
    "t.close()"
   ]
  },
  {
   "cell_type": "code",
   "execution_count": null,
   "metadata": {
    "collapsed": true
   },
   "outputs": [],
   "source": [
    "df_chain = pd.DataFrame(data=result, columns=['N', 'eps', 'convergence_time'])"
   ]
  },
  {
   "cell_type": "code",
   "execution_count": null,
   "metadata": {
    "collapsed": true
   },
   "outputs": [],
   "source": [
    "eps_range = pd.cut(df_chain['eps'], 4, right=False, precision=3)\n",
    "df_chain['eps_range'] = eps_range\n",
    "df_chain['N'] = df_chain['N'].astype(int)"
   ]
  },
  {
   "cell_type": "code",
   "execution_count": null,
   "metadata": {
    "collapsed": false
   },
   "outputs": [],
   "source": [
    "df_chain.to_csv('hk_local_convtimes_chain.csv')"
   ]
  },
  {
   "cell_type": "code",
   "execution_count": 26,
   "metadata": {
    "collapsed": true
   },
   "outputs": [],
   "source": [
    "df_chain = pd.read_csv('hk_local_convtimes_chain.csv', index_col=2)"
   ]
  },
  {
   "cell_type": "markdown",
   "metadata": {},
   "source": [
    "# 3. Barabasi-Albert (Scale free) Graphs"
   ]
  },
  {
   "cell_type": "code",
   "execution_count": 68,
   "metadata": {
    "collapsed": false
   },
   "outputs": [
    {
     "name": "stdout",
     "output_type": "stream",
     "text": [
      "[+] N: 13 values (min: 256, max: 1024)\n",
      "[+] eps: 10 values (min: 0.001, max: 0.4)\n",
      "[+] M: 10 values (min: 2)\n",
      "[+] s: 40 random values\n"
     ]
    }
   ],
   "source": [
    "rand.seed(8925)\n",
    "\n",
    "max_rounds = 20e3\n",
    "\n",
    "# Generate values for N\n",
    "N_list = np.array(xrange(256, 1025, 64))\n",
    "\n",
    "# Generate values for ε\n",
    "EPS_POINTS = 10\n",
    "eps_list = np.linspace(1e-3, 0.4, EPS_POINTS)\n",
    "\n",
    "# Number of different s values\n",
    "SIM_NUM = 40\n",
    "\n",
    "# Number of differnet p values for G(N, p)\n",
    "M_POINTS = 10\n",
    "M_MIN = 2\n",
    "print('[+] N: {0}'.format(list_stats(N_list)))\n",
    "print('[+] eps: {0}'.format(list_stats(eps_list)))\n",
    "print('[+] M: {0} values (min: {1})'.format(P_POINTS, M_MIN))\n",
    "print('[+] s: {0} random values'.format(SIM_NUM))"
   ]
  },
  {
   "cell_type": "code",
   "execution_count": null,
   "metadata": {
    "collapsed": false
   },
   "outputs": [],
   "source": [
    "# Each row of result will contain\n",
    "# N, M, eps, conv_time\n",
    "result = np.empty((0, 4))\n",
    "total_sims = len(N_list)*EPS_POINTS*M_POINTS\n",
    "t = tqdm(total=total_sims)\n",
    "dv.clear()\n",
    "for N in N_list:\n",
    "    # Create random opinions \n",
    "    s_list = [rand.rand(N) for _ in xrange(SIM_NUM)]\n",
    "    M_thres = N // 10\n",
    "    # Create p values\n",
    "    M_list = np.linspace(2, M_thres, M_POINTS)\n",
    "    # Create networks\n",
    "    network_list = [barabasi_albert(N, int(round(M)), None, verbose=False) for M in M_list]\n",
    "    for idx, A in enumerate(network_list):\n",
    "        for eps in eps_list:\n",
    "            t.update()\n",
    "            ar = dv.push(dict(A=A, op_eps=eps, max_rounds=max_rounds))\n",
    "            # Block until values are pushed\n",
    "            ar.get()\n",
    "            # Map\n",
    "            res = parallel_map(v, run_model, s_list, silent=True)\n",
    "            # Calcuate and save results\n",
    "            avg_time = np.mean(res)\n",
    "            res_row = np.array([N, int(round(M_list[idx])), eps, avg_time])\n",
    "            result = np.vstack((result, res_row))\n",
    "t.close()"
   ]
  },
  {
   "cell_type": "code",
   "execution_count": null,
   "metadata": {
    "collapsed": true
   },
   "outputs": [],
   "source": [
    "df_barabasi = pd.DataFrame(data=result, columns=['N', 'M', 'eps', 'convergence_time'])"
   ]
  },
  {
   "cell_type": "code",
   "execution_count": null,
   "metadata": {
    "collapsed": true
   },
   "outputs": [],
   "source": [
    "eps_range = pd.cut(df_barabasi['eps'], 4, right=False, precision=3)\n",
    "df_barabasi['eps_range'] = eps_range\n",
    "df_barabasi['N'] = df_barabasi['N'].astype(int)"
   ]
  },
  {
   "cell_type": "code",
   "execution_count": null,
   "metadata": {
    "collapsed": false
   },
   "outputs": [],
   "source": [
    "df_barabasi.to_csv('hk_local_convtimes_barabasi.csv')"
   ]
  },
  {
   "cell_type": "markdown",
   "metadata": {},
   "source": [
    "# Concatenate dataframes and plot"
   ]
  },
  {
   "cell_type": "code",
   "execution_count": 6,
   "metadata": {
    "collapsed": false
   },
   "outputs": [],
   "source": [
    "df_gnp = pd.read_csv('hk_local_convtimes_gnp2.csv')\n",
    "df_barabasi = pd.read_csv('hk_local_convtimes_barabasi.csv')\n",
    "df_barabasi['network'] = 'Barabasi-Albert'\n",
    "df_gnp['network'] = 'G(N, p)'\n",
    "df = pd.concat((df_gnp, df_barabasi))"
   ]
  },
  {
   "cell_type": "code",
   "execution_count": 5,
   "metadata": {
    "collapsed": false
   },
   "outputs": [
    {
     "name": "stderr",
     "output_type": "stream",
     "text": [
      "/home/user/opinions-research/env/local/lib/python2.7/site-packages/matplotlib/__init__.py:892: UserWarning: axes.color_cycle is deprecated and replaced with axes.prop_cycle; please use the latter.\n",
      "  warnings.warn(self.msg_depr % (key, alt_key))\n"
     ]
    },
    {
     "data": {
      "image/png": "[encoded data removed]",
      "text/plain": [
       "<matplotlib.figure.Figure at 0x7f53d5efc6d0>"
      ]
     },
     "metadata": {},
     "output_type": "display_data"
    }
   ],
   "source": [
    "N_list = np.array(N_list)\n",
    "g = sns.factorplot(x='N', y='convergence_time', data=df, hue='eps_range', col='network', ci=None)\n",
    "plt.ylim(0, 150)\n",
    "g.set_ylabels('rounds')\n",
    "\n",
    "g.set(xticks=np.arange(0, len(N_list), 3))\n",
    "g.set(xticklabels=N_list[0::3])\n",
    "plt.show()"
   ]
  },
  {
   "cell_type": "code",
   "execution_count": 9,
   "metadata": {
    "collapsed": false
   },
   "outputs": [
    {
     "data": {
      "image/png": "[encoded data removed]",
      "text/plain": [
       "<matplotlib.figure.Figure at 0x7f54bc7dd490>"
      ]
     },
     "metadata": {},
     "output_type": "display_data"
    }
   ],
   "source": [
    "pal1 = sns.xkcd_palette(['denim blue', 'pale orange'])\n",
    "sns.boxplot(y='convergence_time', x='eps_range', hue='network', data=df, orient='v', sym='', palette=pal1)\n",
    "plt.xlabel('epsilon')\n",
    "plt.ylabel('rounds')\n",
    "plt.title('Convergence Time variation')\n",
    "plt.ylim(0, 400)\n",
    "fig = plt.gcf()\n",
    "fig.set_size_inches(9, 4)\n",
    "plt.show()"
   ]
  }
 ],
 "metadata": {
  "kernelspec": {
   "display_name": "Python 2",
   "language": "python",
   "name": "python2"
  },
  "language_info": {
   "codemirror_mode": {
    "name": "ipython",
    "version": 2
   },
   "file_extension": ".py",
   "mimetype": "text/x-python",
   "name": "python",
   "nbconvert_exporter": "python",
   "pygments_lexer": "ipython2",
   "version": "2.7.9"
  }
 },
 "nbformat": 4,
 "nbformat_minor": 0
}
